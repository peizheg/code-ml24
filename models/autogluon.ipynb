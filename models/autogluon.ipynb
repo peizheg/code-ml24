{
  "nbformat": 4,
  "nbformat_minor": 0,
  "metadata": {
    "colab": {
      "provenance": []
    },
    "kernelspec": {
      "name": "python3",
      "display_name": "Python 3"
    },
    "language_info": {
      "name": "python"
    }
  },
  "cells": [
    {
      "cell_type": "code",
      "execution_count": null,
      "metadata": {
        "id": "eGVRszWMoiN6",
        "collapsed": true
      },
      "outputs": [],
      "source": [
        "!python -m pip install --upgrade pip\n",
        "!python -m pip install autogluon"
      ]
    },
    {
      "cell_type": "code",
      "source": [
        "from autogluon.tabular import TabularDataset, TabularPredictor"
      ],
      "metadata": {
        "id": "gLnc_nt6pFrW"
      },
      "execution_count": null,
      "outputs": []
    },
    {
      "cell_type": "code",
      "source": [
        "df = TabularDataset(\"new_branded_data.csv\")\n",
        "df = df.dropna(subset=[\"choice\"])\n",
        "df = df.drop(['id', 'Unnamed: 0','flight_departure_datetime', 'purchase_datetime', 'ticket_id'], axis=1)\n",
        "df = df.dropna()\n",
        "df"
      ],
      "metadata": {
        "collapsed": true,
        "id": "82cl2RHKq5ml"
      },
      "execution_count": null,
      "outputs": []
    },
    {
      "cell_type": "code",
      "source": [
        "from sklearn.model_selection import train_test_split\n",
        "\n",
        "train_data, test_data = train_test_split(df, test_size=0.2, random_state=42)"
      ],
      "metadata": {
        "id": "ngTE42nUEa82"
      },
      "execution_count": null,
      "outputs": []
    },
    {
      "cell_type": "code",
      "source": [
        "label = 'choice'\n",
        "train_data[label].describe()"
      ],
      "metadata": {
        "id": "LdLHTu_dsrUy"
      },
      "execution_count": null,
      "outputs": []
    },
    {
      "cell_type": "code",
      "source": [
        "predictor = TabularPredictor(label=label, eval_metric=\"f1_weighted\").fit(\n",
        "    train_data,\n",
        "    time_limit=3600,\n",
        "    presets=\"best_quality\",\n",
        "    hyperparameters=\"extreme\",\n",
        ")"
      ],
      "metadata": {
        "collapsed": true,
        "id": "tMYLqknKstyD"
      },
      "execution_count": null,
      "outputs": []
    },
    {
      "cell_type": "code",
      "source": [
        "leaderboard = predictor.leaderboard(test_data)\n",
        "leaderboard"
      ],
      "metadata": {
        "id": "zOCTQI48xuqg"
      },
      "execution_count": null,
      "outputs": []
    },
    {
      "cell_type": "code",
      "source": [
        "best_model_name = predictor.model_best\n",
        "best_model = predictor._trainer.load_model(best_model_name)"
      ],
      "metadata": {
        "id": "KTSCYwfAC2uN"
      },
      "execution_count": null,
      "outputs": []
    },
    {
      "cell_type": "code",
      "source": [
        "import pandas as pd\n",
        "df_to_predict = pd.read_csv(\"new_branded_baseline.csv\")\n",
        "\n",
        "columns_to_drop = ['id',\n",
        "                   'Unnamed: 0',\n",
        "          'ticket_id',\n",
        "          'choice',\n",
        "          'flight_departure_datetime',\n",
        "          'purchase_datetime']\n",
        "X_to_predict = df_to_predict.drop(columns_to_drop, axis=1)\n",
        "X_to_predict = X_to_predict.dropna()"
      ],
      "metadata": {
        "id": "CrB2AsADb7a0"
      },
      "execution_count": null,
      "outputs": []
    },
    {
      "cell_type": "code",
      "source": [
        "predictions = predictor.predict(X_to_predict)\n",
        "predictions"
      ],
      "metadata": {
        "id": "uhkfCBzpeA-X"
      },
      "execution_count": null,
      "outputs": []
    },
    {
      "cell_type": "code",
      "source": [
        "df_to_predict['choice'] = predictions\n",
        "df_to_predict[['id', 'choice']].to_csv('autogluon_predictions.csv', index=False)"
      ],
      "metadata": {
        "id": "S85QoFJ8eKLA"
      },
      "execution_count": null,
      "outputs": []
    }
  ]
}