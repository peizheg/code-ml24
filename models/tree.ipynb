{
 "cells": [
  {
   "cell_type": "markdown",
   "metadata": {},
   "source": [
    "### Importing"
   ]
  },
  {
   "cell_type": "code",
   "execution_count": 31,
   "metadata": {},
   "outputs": [],
   "source": [
    "from sklearn.metrics import root_mean_squared_error\n",
    "import numpy as np\n",
    "import pandas as pd\n",
    "\n",
    "air_canada = pd.read_csv('../datasets/participant_data.csv')\n",
    "\n",
    "# seperate dataset into training and predicting\n",
    "air_canada_to_predict = air_canada[air_canada['choice'] != air_canada['choice']]\n",
    "air_canada = air_canada[air_canada['choice'] == air_canada['choice']]\n",
    "\n",
    "X, y = air_canada.drop(['Date', 'Country', 'Commodity Type', 'Commodity Category', 'Units'], axis=1), cn[['Units']]"
   ]
  },
  {
   "cell_type": "code",
   "execution_count": 34,
   "metadata": {},
   "outputs": [
    {
     "data": {
      "text/plain": [
       "Index(['id', 'ticket_id', 'od', 'flight_departure_datetime',\n",
       "       'purchase_datetime', 'trip_type', 'branded_fare', 'number_of_pax',\n",
       "       'ADVS_price', 'PREF_price', 'ADVS_capacity', 'PREF_capacity',\n",
       "       'ADVS_inventory', 'PREF_inventory', 'choice'],\n",
       "      dtype='object')"
      ]
     },
     "execution_count": 34,
     "metadata": {},
     "output_type": "execute_result"
    }
   ],
   "source": [
    "air_canada.columns"
   ]
  },
  {
   "cell_type": "markdown",
   "metadata": {},
   "source": [
    "### Training"
   ]
  },
  {
   "cell_type": "code",
   "execution_count": null,
   "metadata": {},
   "outputs": [],
   "source": [
    "from sklearn.pipeline import make_pipeline\n",
    "from sklearn.ensemble import RandomForestRegressor\n",
    "\n",
    "forest_reg = make_pipeline(\n",
    "    RandomForestRegressor(random_state=42)\n",
    ")\n",
    "forest_reg.fit(X_train, y_train)\n",
    "\n",
    "y_pred_svm = forest_reg.predict(X_val)\n",
    "\n",
    "root_mean_squared_error(y_pred_svm, y_val)"
   ]
  },
  {
   "cell_type": "code",
   "execution_count": null,
   "metadata": {},
   "outputs": [],
   "source": [
    "from sklearn.pipeline import make_pipeline\n",
    "from sklearn.ensemble import ExtraTreesRegressor\n",
    "\n",
    "trees_reg = make_pipeline(\n",
    "    ExtraTreesRegressor(random_state=42)\n",
    ")\n",
    "trees_reg.fit(X_train, y_train)\n",
    "\n",
    "y_pred_svm = trees_reg.predict(X_val)\n",
    "\n",
    "root_mean_squared_error(y_pred_svm, y_val)"
   ]
  },
  {
   "cell_type": "markdown",
   "metadata": {},
   "source": [
    "### Tuning"
   ]
  },
  {
   "cell_type": "markdown",
   "metadata": {},
   "source": [
    "#### Random Forest"
   ]
  },
  {
   "cell_type": "code",
   "execution_count": null,
   "metadata": {},
   "outputs": [],
   "source": [
    "from sklearn.model_selection import GridSearchCV\n",
    "\n",
    "param_grid = {\n",
    "    'randomforestregressor__n_estimators': [100, 200, 300],          # Number of trees\n",
    "    'randomforestregressor__max_depth': [None, 10, 20, 30],          # Maximum depth of each tree\n",
    "    'randomforestregressor__min_samples_split': [2, 5, 10],          # Minimum number of samples required to split a node\n",
    "    'randomforestregressor__min_samples_leaf': [1, 2, 4],            # Minimum number of samples required at each leaf node\n",
    "    'randomforestregressor__bootstrap': [True, False]                # Whether bootstrap samples are used when building trees\n",
    "}\n",
    "\n",
    "rnd_forest_search = GridSearchCV(forest_reg,\n",
    "    param_grid=param_grid, verbose=3, cv=3, n_jobs=-1,\n",
    "    scoring='neg_root_mean_squared_error')\n",
    "\n",
    "rnd_forest_search.fit(X_train, y_train)"
   ]
  },
  {
   "cell_type": "code",
   "execution_count": null,
   "metadata": {},
   "outputs": [],
   "source": [
    "rnd_forest_search.best_params_"
   ]
  },
  {
   "cell_type": "code",
   "execution_count": null,
   "metadata": {},
   "outputs": [],
   "source": [
    "y_pred_best = rnd_forest_search.best_estimator_.predict(X_val)\n",
    "\n",
    "root_mean_squared_error(y_pred_best, y_val)"
   ]
  },
  {
   "cell_type": "markdown",
   "metadata": {},
   "source": [
    "#### Extra Trees"
   ]
  },
  {
   "cell_type": "code",
   "execution_count": null,
   "metadata": {},
   "outputs": [],
   "source": [
    "from sklearn.model_selection import GridSearchCV\n",
    "\n",
    "param_grid = {\n",
    "    'extratreesregressor__n_estimators': [100, 200, 300],          # Number of trees\n",
    "    'extratreesregressor__max_depth': [None, 10, 20, 30],          # Maximum depth of each tree\n",
    "    'extratreesregressor__min_samples_split': [2, 5, 10],          # Minimum number of samples required to split a node\n",
    "    'extratreesregressor__min_samples_leaf': [1, 2, 4],            # Minimum number of samples required at each leaf node\n",
    "    'extratreesregressor__bootstrap': [True, False]                # Whether bootstrap samples are used when building trees\n",
    "}\n",
    "\n",
    "rnd_trees_search = GridSearchCV(trees_reg,\n",
    "    param_grid=param_grid, verbose=3, cv=3, n_jobs=-1,\n",
    "    scoring='neg_root_mean_squared_error')\n",
    "\n",
    "rnd_trees_search.fit(X_train, y_train)"
   ]
  },
  {
   "cell_type": "code",
   "execution_count": null,
   "metadata": {},
   "outputs": [],
   "source": [
    "rnd_trees_search.best_params_"
   ]
  },
  {
   "cell_type": "code",
   "execution_count": null,
   "metadata": {},
   "outputs": [],
   "source": [
    "y_pred_best = rnd_trees_search.best_estimator_.predict(X_val)\n",
    "\n",
    "root_mean_squared_error(y_pred_best, y_val)"
   ]
  },
  {
   "cell_type": "markdown",
   "metadata": {},
   "source": [
    "### Saving"
   ]
  },
  {
   "cell_type": "code",
   "execution_count": null,
   "metadata": {},
   "outputs": [],
   "source": [
    "import joblib\n",
    "\n",
    "joblib.dump(rnd_forest_search.best_estimator_, \"./estimators/forest.pkl\")\n",
    "joblib.dump(rnd_trees_search.best_estimator_, \"./estimators/trees.pkl\")"
   ]
  },
  {
   "cell_type": "code",
   "execution_count": null,
   "metadata": {},
   "outputs": [],
   "source": []
  }
 ],
 "metadata": {
  "kernelspec": {
   "display_name": ".venv",
   "language": "python",
   "name": "python3"
  },
  "language_info": {
   "codemirror_mode": {
    "name": "ipython",
    "version": 3
   },
   "file_extension": ".py",
   "mimetype": "text/x-python",
   "name": "python",
   "nbconvert_exporter": "python",
   "pygments_lexer": "ipython3",
   "version": "3.12.3"
  }
 },
 "nbformat": 4,
 "nbformat_minor": 2
}
