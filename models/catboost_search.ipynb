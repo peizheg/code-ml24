{
  "cells": [
    {
      "cell_type": "markdown",
      "metadata": {
        "id": "l2Ve7UwnWRsg"
      },
      "source": [
        "### Importing"
      ]
    },
    {
      "cell_type": "code",
      "execution_count": 4,
      "metadata": {
        "colab": {
          "base_uri": "https://localhost:8080/",
          "height": 0
        },
        "id": "pUBPFrbPWRsj",
        "outputId": "c75ad65e-e702-496e-ed59-3f54c27105e7"
      },
      "outputs": [
        {
          "output_type": "stream",
          "name": "stdout",
          "text": [
            "Requirement already satisfied: catboost in /usr/local/lib/python3.10/dist-packages (1.2.7)\n",
            "Requirement already satisfied: graphviz in /usr/local/lib/python3.10/dist-packages (from catboost) (0.20.3)\n",
            "Requirement already satisfied: matplotlib in /usr/local/lib/python3.10/dist-packages (from catboost) (3.7.1)\n",
            "Requirement already satisfied: numpy<2.0,>=1.16.0 in /usr/local/lib/python3.10/dist-packages (from catboost) (1.26.4)\n",
            "Requirement already satisfied: pandas>=0.24 in /usr/local/lib/python3.10/dist-packages (from catboost) (2.2.2)\n",
            "Requirement already satisfied: scipy in /usr/local/lib/python3.10/dist-packages (from catboost) (1.13.1)\n",
            "Requirement already satisfied: plotly in /usr/local/lib/python3.10/dist-packages (from catboost) (5.24.1)\n",
            "Requirement already satisfied: six in /usr/local/lib/python3.10/dist-packages (from catboost) (1.16.0)\n",
            "Requirement already satisfied: python-dateutil>=2.8.2 in /usr/local/lib/python3.10/dist-packages (from pandas>=0.24->catboost) (2.8.2)\n",
            "Requirement already satisfied: pytz>=2020.1 in /usr/local/lib/python3.10/dist-packages (from pandas>=0.24->catboost) (2024.2)\n",
            "Requirement already satisfied: tzdata>=2022.7 in /usr/local/lib/python3.10/dist-packages (from pandas>=0.24->catboost) (2024.2)\n",
            "Requirement already satisfied: contourpy>=1.0.1 in /usr/local/lib/python3.10/dist-packages (from matplotlib->catboost) (1.3.0)\n",
            "Requirement already satisfied: cycler>=0.10 in /usr/local/lib/python3.10/dist-packages (from matplotlib->catboost) (0.12.1)\n",
            "Requirement already satisfied: fonttools>=4.22.0 in /usr/local/lib/python3.10/dist-packages (from matplotlib->catboost) (4.54.1)\n",
            "Requirement already satisfied: kiwisolver>=1.0.1 in /usr/local/lib/python3.10/dist-packages (from matplotlib->catboost) (1.4.7)\n",
            "Requirement already satisfied: packaging>=20.0 in /usr/local/lib/python3.10/dist-packages (from matplotlib->catboost) (24.1)\n",
            "Requirement already satisfied: pillow>=6.2.0 in /usr/local/lib/python3.10/dist-packages (from matplotlib->catboost) (10.4.0)\n",
            "Requirement already satisfied: pyparsing>=2.3.1 in /usr/local/lib/python3.10/dist-packages (from matplotlib->catboost) (3.1.4)\n",
            "Requirement already satisfied: tenacity>=6.2.0 in /usr/local/lib/python3.10/dist-packages (from plotly->catboost) (9.0.0)\n"
          ]
        },
        {
          "output_type": "stream",
          "name": "stderr",
          "text": [
            "<ipython-input-4-7aea0c71a8fc>:16: SettingWithCopyWarning: \n",
            "A value is trying to be set on a copy of a slice from a DataFrame.\n",
            "Try using .loc[row_indexer,col_indexer] = value instead\n",
            "\n",
            "See the caveats in the documentation: https://pandas.pydata.org/pandas-docs/stable/user_guide/indexing.html#returning-a-view-versus-a-copy\n",
            "  y['choice'] = y['choice'].map({ 'nochoice': 0, 'pref': 1, 'advs': 2 })\n"
          ]
        }
      ],
      "source": [
        "from sklearn.metrics import accuracy_score, f1_score\n",
        "from sklearn.model_selection import train_test_split\n",
        "import numpy as np\n",
        "import pandas as pd\n",
        "!pip install catboost\n",
        "from catboost import CatBoostClassifier\n",
        "\n",
        "air_canada = pd.read_csv('new_branded_data.csv')\n",
        "\n",
        "# seperate dataset into training and predicting\n",
        "air_canada_to_predict = air_canada[air_canada['choice'] != air_canada['choice']]\n",
        "air_canada = air_canada[air_canada['choice'] == air_canada['choice']]\n",
        "\n",
        "X, y = air_canada.drop(['Unnamed: 0', 'id', 'ticket_id', 'choice'], axis=1), air_canada[['choice']]\n",
        "\n",
        "y['choice'] = y['choice'].map({ 'nochoice': 0, 'pref': 1, 'advs': 2 })\n",
        "\n",
        "X_train, X_test, y_train, y_test = train_test_split(X, y, test_size=0.1)"
      ]
    },
    {
      "cell_type": "code",
      "execution_count": 5,
      "metadata": {
        "colab": {
          "base_uri": "https://localhost:8080/",
          "height": 226
        },
        "id": "gzvkic82WRsl",
        "outputId": "4c25e04f-4984-4cbe-c0af-7491a6a15d04"
      },
      "outputs": [
        {
          "output_type": "execute_result",
          "data": {
            "text/plain": [
              "       od flight_departure_datetime purchase_datetime   time_diff  trip_type  \\\n",
              "2  BBBDDD          2024-01-01 03:00  2023-08-03 06:03  13035420.0          0   \n",
              "3  BBBDDD          2024-01-01 03:00  2023-08-13 17:41  12129540.0          0   \n",
              "4  BBBDDD          2024-01-01 03:00  2023-08-20 22:04  11508960.0          0   \n",
              "7  BBBDDD          2024-01-01 03:00  2023-09-17 22:16   9089040.0          1   \n",
              "8  BBBDDD          2024-01-01 03:00  2023-09-25 00:53   8474820.0          1   \n",
              "\n",
              "   branded_fare  number_of_pax  ADVS_price  PREF_price  ADVS_capacity  \\\n",
              "2             1              2          35          80             50   \n",
              "3             3              1           0           0             50   \n",
              "4             3              1           0           0             50   \n",
              "7             3              1           0           0             50   \n",
              "8             0              3          44          81             50   \n",
              "\n",
              "   PREF_capacity  ADVS_inventory  PREF_inventory  pref_inv_full  advs_ratio  \\\n",
              "2             10              50               7              1        1.00   \n",
              "3             10              50               5              1        1.00   \n",
              "4             10              50               5              1        1.00   \n",
              "7             10              48               4              1        0.96   \n",
              "8             10              48               3              1        0.96   \n",
              "\n",
              "   pref_ratio time_day  \n",
              "2         0.7    night  \n",
              "3         0.5    night  \n",
              "4         0.5    night  \n",
              "7         0.4    night  \n",
              "8         0.3    night  "
            ],
            "text/html": [
              "\n",
              "  <div id=\"df-5bc2c440-43bb-4795-a841-09b33162b71a\" class=\"colab-df-container\">\n",
              "    <div>\n",
              "<style scoped>\n",
              "    .dataframe tbody tr th:only-of-type {\n",
              "        vertical-align: middle;\n",
              "    }\n",
              "\n",
              "    .dataframe tbody tr th {\n",
              "        vertical-align: top;\n",
              "    }\n",
              "\n",
              "    .dataframe thead th {\n",
              "        text-align: right;\n",
              "    }\n",
              "</style>\n",
              "<table border=\"1\" class=\"dataframe\">\n",
              "  <thead>\n",
              "    <tr style=\"text-align: right;\">\n",
              "      <th></th>\n",
              "      <th>od</th>\n",
              "      <th>flight_departure_datetime</th>\n",
              "      <th>purchase_datetime</th>\n",
              "      <th>time_diff</th>\n",
              "      <th>trip_type</th>\n",
              "      <th>branded_fare</th>\n",
              "      <th>number_of_pax</th>\n",
              "      <th>ADVS_price</th>\n",
              "      <th>PREF_price</th>\n",
              "      <th>ADVS_capacity</th>\n",
              "      <th>PREF_capacity</th>\n",
              "      <th>ADVS_inventory</th>\n",
              "      <th>PREF_inventory</th>\n",
              "      <th>pref_inv_full</th>\n",
              "      <th>advs_ratio</th>\n",
              "      <th>pref_ratio</th>\n",
              "      <th>time_day</th>\n",
              "    </tr>\n",
              "  </thead>\n",
              "  <tbody>\n",
              "    <tr>\n",
              "      <th>2</th>\n",
              "      <td>BBBDDD</td>\n",
              "      <td>2024-01-01 03:00</td>\n",
              "      <td>2023-08-03 06:03</td>\n",
              "      <td>13035420.0</td>\n",
              "      <td>0</td>\n",
              "      <td>1</td>\n",
              "      <td>2</td>\n",
              "      <td>35</td>\n",
              "      <td>80</td>\n",
              "      <td>50</td>\n",
              "      <td>10</td>\n",
              "      <td>50</td>\n",
              "      <td>7</td>\n",
              "      <td>1</td>\n",
              "      <td>1.00</td>\n",
              "      <td>0.7</td>\n",
              "      <td>night</td>\n",
              "    </tr>\n",
              "    <tr>\n",
              "      <th>3</th>\n",
              "      <td>BBBDDD</td>\n",
              "      <td>2024-01-01 03:00</td>\n",
              "      <td>2023-08-13 17:41</td>\n",
              "      <td>12129540.0</td>\n",
              "      <td>0</td>\n",
              "      <td>3</td>\n",
              "      <td>1</td>\n",
              "      <td>0</td>\n",
              "      <td>0</td>\n",
              "      <td>50</td>\n",
              "      <td>10</td>\n",
              "      <td>50</td>\n",
              "      <td>5</td>\n",
              "      <td>1</td>\n",
              "      <td>1.00</td>\n",
              "      <td>0.5</td>\n",
              "      <td>night</td>\n",
              "    </tr>\n",
              "    <tr>\n",
              "      <th>4</th>\n",
              "      <td>BBBDDD</td>\n",
              "      <td>2024-01-01 03:00</td>\n",
              "      <td>2023-08-20 22:04</td>\n",
              "      <td>11508960.0</td>\n",
              "      <td>0</td>\n",
              "      <td>3</td>\n",
              "      <td>1</td>\n",
              "      <td>0</td>\n",
              "      <td>0</td>\n",
              "      <td>50</td>\n",
              "      <td>10</td>\n",
              "      <td>50</td>\n",
              "      <td>5</td>\n",
              "      <td>1</td>\n",
              "      <td>1.00</td>\n",
              "      <td>0.5</td>\n",
              "      <td>night</td>\n",
              "    </tr>\n",
              "    <tr>\n",
              "      <th>7</th>\n",
              "      <td>BBBDDD</td>\n",
              "      <td>2024-01-01 03:00</td>\n",
              "      <td>2023-09-17 22:16</td>\n",
              "      <td>9089040.0</td>\n",
              "      <td>1</td>\n",
              "      <td>3</td>\n",
              "      <td>1</td>\n",
              "      <td>0</td>\n",
              "      <td>0</td>\n",
              "      <td>50</td>\n",
              "      <td>10</td>\n",
              "      <td>48</td>\n",
              "      <td>4</td>\n",
              "      <td>1</td>\n",
              "      <td>0.96</td>\n",
              "      <td>0.4</td>\n",
              "      <td>night</td>\n",
              "    </tr>\n",
              "    <tr>\n",
              "      <th>8</th>\n",
              "      <td>BBBDDD</td>\n",
              "      <td>2024-01-01 03:00</td>\n",
              "      <td>2023-09-25 00:53</td>\n",
              "      <td>8474820.0</td>\n",
              "      <td>1</td>\n",
              "      <td>0</td>\n",
              "      <td>3</td>\n",
              "      <td>44</td>\n",
              "      <td>81</td>\n",
              "      <td>50</td>\n",
              "      <td>10</td>\n",
              "      <td>48</td>\n",
              "      <td>3</td>\n",
              "      <td>1</td>\n",
              "      <td>0.96</td>\n",
              "      <td>0.3</td>\n",
              "      <td>night</td>\n",
              "    </tr>\n",
              "  </tbody>\n",
              "</table>\n",
              "</div>\n",
              "    <div class=\"colab-df-buttons\">\n",
              "\n",
              "  <div class=\"colab-df-container\">\n",
              "    <button class=\"colab-df-convert\" onclick=\"convertToInteractive('df-5bc2c440-43bb-4795-a841-09b33162b71a')\"\n",
              "            title=\"Convert this dataframe to an interactive table.\"\n",
              "            style=\"display:none;\">\n",
              "\n",
              "  <svg xmlns=\"http://www.w3.org/2000/svg\" height=\"24px\" viewBox=\"0 -960 960 960\">\n",
              "    <path d=\"M120-120v-720h720v720H120Zm60-500h600v-160H180v160Zm220 220h160v-160H400v160Zm0 220h160v-160H400v160ZM180-400h160v-160H180v160Zm440 0h160v-160H620v160ZM180-180h160v-160H180v160Zm440 0h160v-160H620v160Z\"/>\n",
              "  </svg>\n",
              "    </button>\n",
              "\n",
              "  <style>\n",
              "    .colab-df-container {\n",
              "      display:flex;\n",
              "      gap: 12px;\n",
              "    }\n",
              "\n",
              "    .colab-df-convert {\n",
              "      background-color: #E8F0FE;\n",
              "      border: none;\n",
              "      border-radius: 50%;\n",
              "      cursor: pointer;\n",
              "      display: none;\n",
              "      fill: #1967D2;\n",
              "      height: 32px;\n",
              "      padding: 0 0 0 0;\n",
              "      width: 32px;\n",
              "    }\n",
              "\n",
              "    .colab-df-convert:hover {\n",
              "      background-color: #E2EBFA;\n",
              "      box-shadow: 0px 1px 2px rgba(60, 64, 67, 0.3), 0px 1px 3px 1px rgba(60, 64, 67, 0.15);\n",
              "      fill: #174EA6;\n",
              "    }\n",
              "\n",
              "    .colab-df-buttons div {\n",
              "      margin-bottom: 4px;\n",
              "    }\n",
              "\n",
              "    [theme=dark] .colab-df-convert {\n",
              "      background-color: #3B4455;\n",
              "      fill: #D2E3FC;\n",
              "    }\n",
              "\n",
              "    [theme=dark] .colab-df-convert:hover {\n",
              "      background-color: #434B5C;\n",
              "      box-shadow: 0px 1px 3px 1px rgba(0, 0, 0, 0.15);\n",
              "      filter: drop-shadow(0px 1px 2px rgba(0, 0, 0, 0.3));\n",
              "      fill: #FFFFFF;\n",
              "    }\n",
              "  </style>\n",
              "\n",
              "    <script>\n",
              "      const buttonEl =\n",
              "        document.querySelector('#df-5bc2c440-43bb-4795-a841-09b33162b71a button.colab-df-convert');\n",
              "      buttonEl.style.display =\n",
              "        google.colab.kernel.accessAllowed ? 'block' : 'none';\n",
              "\n",
              "      async function convertToInteractive(key) {\n",
              "        const element = document.querySelector('#df-5bc2c440-43bb-4795-a841-09b33162b71a');\n",
              "        const dataTable =\n",
              "          await google.colab.kernel.invokeFunction('convertToInteractive',\n",
              "                                                    [key], {});\n",
              "        if (!dataTable) return;\n",
              "\n",
              "        const docLinkHtml = 'Like what you see? Visit the ' +\n",
              "          '<a target=\"_blank\" href=https://colab.research.google.com/notebooks/data_table.ipynb>data table notebook</a>'\n",
              "          + ' to learn more about interactive tables.';\n",
              "        element.innerHTML = '';\n",
              "        dataTable['output_type'] = 'display_data';\n",
              "        await google.colab.output.renderOutput(dataTable, element);\n",
              "        const docLink = document.createElement('div');\n",
              "        docLink.innerHTML = docLinkHtml;\n",
              "        element.appendChild(docLink);\n",
              "      }\n",
              "    </script>\n",
              "  </div>\n",
              "\n",
              "\n",
              "<div id=\"df-1032d03e-b334-4907-a173-5c2574f791bd\">\n",
              "  <button class=\"colab-df-quickchart\" onclick=\"quickchart('df-1032d03e-b334-4907-a173-5c2574f791bd')\"\n",
              "            title=\"Suggest charts\"\n",
              "            style=\"display:none;\">\n",
              "\n",
              "<svg xmlns=\"http://www.w3.org/2000/svg\" height=\"24px\"viewBox=\"0 0 24 24\"\n",
              "     width=\"24px\">\n",
              "    <g>\n",
              "        <path d=\"M19 3H5c-1.1 0-2 .9-2 2v14c0 1.1.9 2 2 2h14c1.1 0 2-.9 2-2V5c0-1.1-.9-2-2-2zM9 17H7v-7h2v7zm4 0h-2V7h2v10zm4 0h-2v-4h2v4z\"/>\n",
              "    </g>\n",
              "</svg>\n",
              "  </button>\n",
              "\n",
              "<style>\n",
              "  .colab-df-quickchart {\n",
              "      --bg-color: #E8F0FE;\n",
              "      --fill-color: #1967D2;\n",
              "      --hover-bg-color: #E2EBFA;\n",
              "      --hover-fill-color: #174EA6;\n",
              "      --disabled-fill-color: #AAA;\n",
              "      --disabled-bg-color: #DDD;\n",
              "  }\n",
              "\n",
              "  [theme=dark] .colab-df-quickchart {\n",
              "      --bg-color: #3B4455;\n",
              "      --fill-color: #D2E3FC;\n",
              "      --hover-bg-color: #434B5C;\n",
              "      --hover-fill-color: #FFFFFF;\n",
              "      --disabled-bg-color: #3B4455;\n",
              "      --disabled-fill-color: #666;\n",
              "  }\n",
              "\n",
              "  .colab-df-quickchart {\n",
              "    background-color: var(--bg-color);\n",
              "    border: none;\n",
              "    border-radius: 50%;\n",
              "    cursor: pointer;\n",
              "    display: none;\n",
              "    fill: var(--fill-color);\n",
              "    height: 32px;\n",
              "    padding: 0;\n",
              "    width: 32px;\n",
              "  }\n",
              "\n",
              "  .colab-df-quickchart:hover {\n",
              "    background-color: var(--hover-bg-color);\n",
              "    box-shadow: 0 1px 2px rgba(60, 64, 67, 0.3), 0 1px 3px 1px rgba(60, 64, 67, 0.15);\n",
              "    fill: var(--button-hover-fill-color);\n",
              "  }\n",
              "\n",
              "  .colab-df-quickchart-complete:disabled,\n",
              "  .colab-df-quickchart-complete:disabled:hover {\n",
              "    background-color: var(--disabled-bg-color);\n",
              "    fill: var(--disabled-fill-color);\n",
              "    box-shadow: none;\n",
              "  }\n",
              "\n",
              "  .colab-df-spinner {\n",
              "    border: 2px solid var(--fill-color);\n",
              "    border-color: transparent;\n",
              "    border-bottom-color: var(--fill-color);\n",
              "    animation:\n",
              "      spin 1s steps(1) infinite;\n",
              "  }\n",
              "\n",
              "  @keyframes spin {\n",
              "    0% {\n",
              "      border-color: transparent;\n",
              "      border-bottom-color: var(--fill-color);\n",
              "      border-left-color: var(--fill-color);\n",
              "    }\n",
              "    20% {\n",
              "      border-color: transparent;\n",
              "      border-left-color: var(--fill-color);\n",
              "      border-top-color: var(--fill-color);\n",
              "    }\n",
              "    30% {\n",
              "      border-color: transparent;\n",
              "      border-left-color: var(--fill-color);\n",
              "      border-top-color: var(--fill-color);\n",
              "      border-right-color: var(--fill-color);\n",
              "    }\n",
              "    40% {\n",
              "      border-color: transparent;\n",
              "      border-right-color: var(--fill-color);\n",
              "      border-top-color: var(--fill-color);\n",
              "    }\n",
              "    60% {\n",
              "      border-color: transparent;\n",
              "      border-right-color: var(--fill-color);\n",
              "    }\n",
              "    80% {\n",
              "      border-color: transparent;\n",
              "      border-right-color: var(--fill-color);\n",
              "      border-bottom-color: var(--fill-color);\n",
              "    }\n",
              "    90% {\n",
              "      border-color: transparent;\n",
              "      border-bottom-color: var(--fill-color);\n",
              "    }\n",
              "  }\n",
              "</style>\n",
              "\n",
              "  <script>\n",
              "    async function quickchart(key) {\n",
              "      const quickchartButtonEl =\n",
              "        document.querySelector('#' + key + ' button');\n",
              "      quickchartButtonEl.disabled = true;  // To prevent multiple clicks.\n",
              "      quickchartButtonEl.classList.add('colab-df-spinner');\n",
              "      try {\n",
              "        const charts = await google.colab.kernel.invokeFunction(\n",
              "            'suggestCharts', [key], {});\n",
              "      } catch (error) {\n",
              "        console.error('Error during call to suggestCharts:', error);\n",
              "      }\n",
              "      quickchartButtonEl.classList.remove('colab-df-spinner');\n",
              "      quickchartButtonEl.classList.add('colab-df-quickchart-complete');\n",
              "    }\n",
              "    (() => {\n",
              "      let quickchartButtonEl =\n",
              "        document.querySelector('#df-1032d03e-b334-4907-a173-5c2574f791bd button');\n",
              "      quickchartButtonEl.style.display =\n",
              "        google.colab.kernel.accessAllowed ? 'block' : 'none';\n",
              "    })();\n",
              "  </script>\n",
              "</div>\n",
              "\n",
              "    </div>\n",
              "  </div>\n"
            ],
            "application/vnd.google.colaboratory.intrinsic+json": {
              "type": "dataframe",
              "variable_name": "X"
            }
          },
          "metadata": {},
          "execution_count": 5
        }
      ],
      "source": [
        "X.columns\n",
        "X.head()"
      ]
    },
    {
      "cell_type": "markdown",
      "metadata": {
        "id": "xPI54FfZWRsm"
      },
      "source": [
        "### Preprocessing"
      ]
    },
    {
      "cell_type": "code",
      "execution_count": 6,
      "metadata": {
        "id": "Gqs7VKEWWRsn"
      },
      "outputs": [],
      "source": [
        "from sklearn.pipeline import make_pipeline\n",
        "from sklearn.compose import ColumnTransformer\n",
        "from sklearn.preprocessing import OneHotEncoder, StandardScaler"
      ]
    },
    {
      "cell_type": "code",
      "execution_count": 9,
      "metadata": {
        "id": "5jxFwYMtWRsn"
      },
      "outputs": [],
      "source": [
        "num_pipeline = make_pipeline(\n",
        "  StandardScaler()\n",
        ")\n",
        "\n",
        "cat_pipeline = make_pipeline(\n",
        "  OneHotEncoder()\n",
        ")\n",
        "preprocessing = ColumnTransformer([\n",
        "    ('cat', cat_pipeline, ['od', 'trip_type', 'branded_fare']),\n",
        "    ('num', num_pipeline, ['time_diff', 'number_of_pax', 'ADVS_price', 'PREF_price',\n",
        "                           'ADVS_capacity', 'PREF_capacity', 'ADVS_inventory', 'PREF_inventory',\n",
        "                           'pref_inv_full', 'advs_ratio', 'pref_ratio'])\n",
        "  ], remainder='drop')"
      ]
    },
    {
      "cell_type": "code",
      "execution_count": 10,
      "metadata": {
        "id": "_ROTILqfWRso"
      },
      "outputs": [],
      "source": [
        "X_train_prep = preprocessing.fit_transform(X_train)\n",
        "X_test_prep = preprocessing.transform(X_test)"
      ]
    },
    {
      "cell_type": "code",
      "execution_count": null,
      "metadata": {
        "colab": {
          "base_uri": "https://localhost:8080/"
        },
        "id": "xU3wneunWRsp",
        "outputId": "91375531-8660-4189-bbc8-064d45808d4a"
      },
      "outputs": [
        {
          "output_type": "execute_result",
          "data": {
            "text/plain": [
              "array([[ 0.        ,  0.        ,  0.        , ..., -2.71051428,\n",
              "        -1.33098964, -1.48024725],\n",
              "       [ 0.        ,  1.        ,  0.        , ..., -2.71051428,\n",
              "        -1.17418108, -1.48024725],\n",
              "       [ 0.        ,  0.        ,  0.        , ...,  0.36893368,\n",
              "         0.4697796 ,  1.02015016],\n",
              "       ...,\n",
              "       [ 0.        ,  0.        ,  0.        , ...,  0.36893368,\n",
              "         0.61647147,  1.00091633],\n",
              "       [ 0.        ,  1.        ,  0.        , ...,  0.36893368,\n",
              "         0.34332108, -0.51855594],\n",
              "       [ 1.        ,  0.        ,  0.        , ...,  0.36893368,\n",
              "        -0.55200519, -0.49932211]])"
            ]
          },
          "metadata": {},
          "execution_count": 12
        }
      ],
      "source": []
    },
    {
      "cell_type": "markdown",
      "metadata": {
        "id": "5mITZ7_vWRsp"
      },
      "source": [
        "### Training"
      ]
    },
    {
      "cell_type": "code",
      "execution_count": 15,
      "metadata": {
        "colab": {
          "base_uri": "https://localhost:8080/"
        },
        "id": "zzIaH2uUWRsr",
        "outputId": "7bcc0f45-f57b-4cf3-f478-683aa704af23"
      },
      "outputs": [
        {
          "output_type": "stream",
          "name": "stdout",
          "text": [
            "0:\tlearn: 0.7309733\ttotal: 117ms\tremaining: 117ms\n",
            "1:\tlearn: 0.6921469\ttotal: 176ms\tremaining: 0us\n",
            "Accuracy: 0.7243116883116884\n",
            "F1 Score: 0.7548180336349275\n"
          ]
        }
      ],
      "source": [
        "import lightgbm as lgb\n",
        "\n",
        "\n",
        "bst = CatBoostClassifier(iterations=2,\n",
        "                           learning_rate=1,\n",
        "                           depth=2)\n",
        "bst.fit(X_train_prep, y_train)\n",
        "\n",
        "y_pred = bst.predict(X_test_prep)\n",
        "\n",
        "print(\"Accuracy:\", accuracy_score(y_pred, y_test))\n",
        "print(\"F1 Score:\", f1_score(y_pred, y_test, average='weighted'))"
      ]
    },
    {
      "cell_type": "code",
      "source": [],
      "metadata": {
        "colab": {
          "base_uri": "https://localhost:8080/"
        },
        "id": "Xhk9trrZedfb",
        "outputId": "8a74e4ad-6f6b-4882-8173-e9c666d8dc7b"
      },
      "execution_count": 22,
      "outputs": [
        {
          "output_type": "execute_result",
          "data": {
            "text/plain": [
              "2"
            ]
          },
          "metadata": {},
          "execution_count": 22
        }
      ]
    },
    {
      "cell_type": "markdown",
      "metadata": {
        "id": "hV8fVa9pWRss"
      },
      "source": [
        "### Tuning"
      ]
    },
    {
      "cell_type": "code",
      "execution_count": null,
      "metadata": {
        "colab": {
          "base_uri": "https://localhost:8080/"
        },
        "id": "tCtm-s46WRst",
        "outputId": "aba352ad-c4a5-4faf-caf3-074df5adefc4"
      },
      "outputs": [
        {
          "output_type": "stream",
          "name": "stdout",
          "text": [
            "Fitting 2 folds for each of 972 candidates, totalling 1944 fits\n"
          ]
        }
      ],
      "source": [
        "from sklearn.model_selection import GridSearchCV\n",
        "\n",
        "param_grid = {\n",
        "    # 'n_estimators': [100, 200, 300],           # Number of boosting rounds\n",
        "    'iterations': [800, 1000, 1200],\n",
        "     'learning_rate': [0.01, 0.1, 0.2],         # Step size shrinkage\n",
        "     \"depth\": [1, 5, 10],\n",
        "    \"subsample\": [0.05, 0.5, 1.0],\n",
        "    \"colsample_bylevel\": [0.05, 0.5, 1.0],\n",
        "    \"min_data_in_leaf\": [1, 20, 80, 100],\n",
        "    # 'max_depth': [-1, 3, 5],                    # Maximum depth of the trees\n",
        "    # 'min_child_weight': [1, 3, 5],             # Minimum sum of instance weight needed in a child\n",
        "    # 'subsample': [0.6, 0.8, 1.0],              # Subsample ratio of the training instances\n",
        " #   'colsample_bytree': [0.6, 0.8, 1.0],       # Subsample ratio of columns when constructing each tree\n",
        "#    'gamma': [0, 0.1, 0.2],                    # Minimum loss reduction to make a further partition on a leaf node\n",
        "    # 'max_bin': [255, 300, 500],\n",
        "    # 'num_leaves': [30, 40, 50, 60],\n",
        "}\n",
        "\n",
        "rnd_search = GridSearchCV(bst,\n",
        "    param_grid=param_grid, verbose=4, cv=2,  n_jobs=-1,\n",
        "    scoring='f1_weighted')\n",
        "\n",
        "rnd_search.fit(X_train_prep, y_train)"
      ]
    },
    {
      "cell_type": "code",
      "execution_count": null,
      "metadata": {
        "colab": {
          "base_uri": "https://localhost:8080/"
        },
        "id": "SZnjRj_fWRst",
        "outputId": "c2e65f77-500d-45de-b9f1-b13e87fa2907"
      },
      "outputs": [
        {
          "output_type": "execute_result",
          "data": {
            "text/plain": [
              "{'n_estimators': 300}"
            ]
          },
          "metadata": {},
          "execution_count": 28
        }
      ],
      "source": [
        "rnd_search.best_params_"
      ]
    },
    {
      "cell_type": "code",
      "execution_count": null,
      "metadata": {
        "colab": {
          "base_uri": "https://localhost:8080/"
        },
        "id": "HI3Yij3-WRst",
        "outputId": "c7fcbc5e-400d-496a-848b-d89a837671a4"
      },
      "outputs": [
        {
          "output_type": "stream",
          "name": "stdout",
          "text": [
            "[LightGBM] [Warning] boosting is set=gbdt, boosting_type=gbdt will be ignored. Current value: boosting=gbdt\n"
          ]
        },
        {
          "output_type": "execute_result",
          "data": {
            "text/plain": [
              "0.7821897958305488"
            ]
          },
          "metadata": {},
          "execution_count": 30
        }
      ],
      "source": [
        "y_pred_best = rnd_search.best_estimator_.predict(X_test_prep)\n",
        "\n",
        "f1_score(y_pred_best, y_test, average='weighted')"
      ]
    },
    {
      "cell_type": "markdown",
      "metadata": {
        "id": "JCIUr-jlWRst"
      },
      "source": [
        "### Predicting"
      ]
    },
    {
      "cell_type": "code",
      "execution_count": null,
      "metadata": {
        "id": "Ojyv-QJtWRst",
        "outputId": "b074639a-28c0-4ee7-f0e0-9cc7d078fa45"
      },
      "outputs": [
        {
          "name": "stderr",
          "output_type": "stream",
          "text": [
            "/tmp/ipykernel_300444/1900845532.py:3: SettingWithCopyWarning: \n",
            "A value is trying to be set on a copy of a slice from a DataFrame.\n",
            "Try using .loc[row_indexer,col_indexer] = value instead\n",
            "\n",
            "See the caveats in the documentation: https://pandas.pydata.org/pandas-docs/stable/user_guide/indexing.html#returning-a-view-versus-a-copy\n",
            "  y_to_predict['choice'] = bst.predict(X_to_predict_prep)\n"
          ]
        }
      ],
      "source": [
        "X_to_predict, y_to_predict = air_canada_to_predict.drop(['id', 'ticket_id', 'choice'], axis=1), air_canada_to_predict[['id']]\n",
        "X_to_predict_prep = preprocessing.transform(X_to_predict)\n",
        "y_to_predict['choice'] = rnd_search.best_estimator_.predict(X_to_predict_prep)"
      ]
    },
    {
      "cell_type": "code",
      "execution_count": null,
      "metadata": {
        "id": "WhM7eglFWRsu",
        "outputId": "8f215f2b-4e9b-44c5-f07c-a33b997d74a7"
      },
      "outputs": [
        {
          "name": "stderr",
          "output_type": "stream",
          "text": [
            "/tmp/ipykernel_300444/1816271922.py:1: SettingWithCopyWarning: \n",
            "A value is trying to be set on a copy of a slice from a DataFrame.\n",
            "Try using .loc[row_indexer,col_indexer] = value instead\n",
            "\n",
            "See the caveats in the documentation: https://pandas.pydata.org/pandas-docs/stable/user_guide/indexing.html#returning-a-view-versus-a-copy\n",
            "  y_to_predict['choice'] = y_to_predict['choice'].map({ 0: 'nochoice', 1: 'pref', 2: 'advs'})\n"
          ]
        }
      ],
      "source": [
        "y_to_predict['choice'] = y_to_predict['choice'].map({ 0: 'nochoice', 1: 'pref', 2: 'advs'})"
      ]
    },
    {
      "cell_type": "code",
      "execution_count": null,
      "metadata": {
        "id": "g_IG7qM3WRsu"
      },
      "outputs": [],
      "source": [
        "y_final = pd.concat([y_to_predict, air_canada])[['id', 'choice']]"
      ]
    },
    {
      "cell_type": "markdown",
      "metadata": {
        "id": "2RNo1mG4WRsu"
      },
      "source": [
        "### Saving"
      ]
    },
    {
      "cell_type": "code",
      "execution_count": null,
      "metadata": {
        "id": "AD7UNbNpWRsv"
      },
      "outputs": [],
      "source": [
        "pd.DataFrame.to_csv(y_final, '../predictions/pred8.csv', index=False)"
      ]
    },
    {
      "cell_type": "code",
      "execution_count": null,
      "metadata": {
        "id": "SIJTm6S3WRsv"
      },
      "outputs": [],
      "source": []
    }
  ],
  "metadata": {
    "kernelspec": {
      "display_name": ".venv",
      "language": "python",
      "name": "python3"
    },
    "language_info": {
      "codemirror_mode": {
        "name": "ipython",
        "version": 3
      },
      "file_extension": ".py",
      "mimetype": "text/x-python",
      "name": "python",
      "nbconvert_exporter": "python",
      "pygments_lexer": "ipython3",
      "version": "3.12.3"
    },
    "colab": {
      "provenance": []
    }
  },
  "nbformat": 4,
  "nbformat_minor": 0
}