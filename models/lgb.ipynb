{
  "cells": [
    {
      "cell_type": "markdown",
      "metadata": {
        "id": "l2Ve7UwnWRsg"
      },
      "source": [
        "### Importing"
      ]
    },
    {
      "cell_type": "code",
      "execution_count": 1,
      "metadata": {
        "colab": {
          "base_uri": "https://localhost:8080/"
        },
        "id": "pUBPFrbPWRsj",
        "outputId": "faaa3b5e-48b4-4f76-930c-3c985f0fdf72"
      },
      "outputs": [
        {
          "name": "stderr",
          "output_type": "stream",
          "text": [
            "/tmp/ipykernel_367504/1501615036.py:14: SettingWithCopyWarning: \n",
            "A value is trying to be set on a copy of a slice from a DataFrame.\n",
            "Try using .loc[row_indexer,col_indexer] = value instead\n",
            "\n",
            "See the caveats in the documentation: https://pandas.pydata.org/pandas-docs/stable/user_guide/indexing.html#returning-a-view-versus-a-copy\n",
            "  y['choice'] = y['choice'].map({ 'nochoice': 0, 'pref': 1, 'advs': 2 })\n"
          ]
        }
      ],
      "source": [
        "from sklearn.metrics import accuracy_score, f1_score\n",
        "from sklearn.model_selection import train_test_split\n",
        "import numpy as np\n",
        "import pandas as pd\n",
        "\n",
        "air_canada = pd.read_csv('../datasets/new_branded_data.csv')\n",
        "\n",
        "# seperate dataset into training and predicting\n",
        "air_canada_to_predict = air_canada[air_canada['choice'] != air_canada['choice']]\n",
        "air_canada = air_canada[air_canada['choice'] == air_canada['choice']]\n",
        "\n",
        "X, y = air_canada.drop(['Unnamed: 0', 'id', 'ticket_id', 'choice'], axis=1), air_canada[['choice']]\n",
        "\n",
        "y['choice'] = y['choice'].map({ 'nochoice': 0, 'pref': 1, 'advs': 2 })\n",
        "\n",
        "X_train, X_test, y_train, y_test = train_test_split(X, y, test_size=0.1)"
      ]
    },
    {
      "cell_type": "code",
      "execution_count": 2,
      "metadata": {
        "colab": {
          "base_uri": "https://localhost:8080/"
        },
        "id": "gzvkic82WRsl",
        "outputId": "216d3388-5696-48b8-a7f4-a80b875e11dd"
      },
      "outputs": [
        {
          "data": {
            "text/plain": [
              "Index(['od', 'flight_departure_datetime', 'purchase_datetime', 'time_diff',\n",
              "       'trip_type', 'branded_fare', 'number_of_pax', 'ADVS_price',\n",
              "       'PREF_price', 'ADVS_capacity', 'PREF_capacity', 'ADVS_inventory',\n",
              "       'PREF_inventory', 'pref_inv_full', 'advs_ratio', 'pref_ratio',\n",
              "       'total_cap'],\n",
              "      dtype='object')"
            ]
          },
          "execution_count": 2,
          "metadata": {},
          "output_type": "execute_result"
        }
      ],
      "source": [
        "X.columns"
      ]
    },
    {
      "cell_type": "markdown",
      "metadata": {
        "id": "xPI54FfZWRsm"
      },
      "source": [
        "### Preprocessing"
      ]
    },
    {
      "cell_type": "code",
      "execution_count": 3,
      "metadata": {
        "id": "Gqs7VKEWWRsn"
      },
      "outputs": [],
      "source": [
        "from sklearn.pipeline import make_pipeline\n",
        "from sklearn.compose import ColumnTransformer\n",
        "from sklearn.preprocessing import OneHotEncoder, StandardScaler"
      ]
    },
    {
      "cell_type": "code",
      "execution_count": 4,
      "metadata": {
        "id": "5jxFwYMtWRsn"
      },
      "outputs": [],
      "source": [
        "num_pipeline = make_pipeline(\n",
        "  StandardScaler()\n",
        ")\n",
        "\n",
        "cat_pipeline = make_pipeline(\n",
        "  OneHotEncoder()\n",
        ")\n",
        "preprocessing = ColumnTransformer([\n",
        "    ('cat', cat_pipeline, ['od', 'trip_type', 'branded_fare', 'total_cap']),\n",
        "    ('num', num_pipeline, ['time_diff', 'number_of_pax', 'ADVS_price', 'PREF_price',\n",
        "                           'ADVS_capacity', 'PREF_capacity', 'ADVS_inventory', 'PREF_inventory',\n",
        "                           'pref_inv_full', 'advs_ratio', 'pref_ratio'])\n",
        "  ], remainder='drop')"
      ]
    },
    {
      "cell_type": "code",
      "execution_count": 5,
      "metadata": {
        "id": "_ROTILqfWRso"
      },
      "outputs": [],
      "source": [
        "X_train_prep = preprocessing.fit_transform(X_train)\n",
        "X_test_prep = preprocessing.transform(X_test)"
      ]
    },
    {
      "cell_type": "markdown",
      "metadata": {
        "id": "5mITZ7_vWRsp"
      },
      "source": [
        "### Training"
      ]
    },
    {
      "cell_type": "code",
      "execution_count": 6,
      "metadata": {
        "colab": {
          "base_uri": "https://localhost:8080/"
        },
        "id": "zzIaH2uUWRsr",
        "outputId": "f652aa63-2a15-4bfd-9cfb-ba5367f16f16"
      },
      "outputs": [
        {
          "name": "stdout",
          "output_type": "stream",
          "text": [
            "[LightGBM] [Info] Total Bins 877\n",
            "[LightGBM] [Info] Number of data points in the train set: 173248, number of used features: 30\n",
            "[LightGBM] [Info] Start training from score -0.386339\n",
            "[LightGBM] [Info] Start training from score -1.919581\n",
            "[LightGBM] [Info] Start training from score -1.749900\n",
            "Accuracy: 0.7464935064935065\n",
            "F1 Score: 0.7863403247005998\n"
          ]
        }
      ],
      "source": [
        "from lightgbm import LGBMClassifier\n",
        "\n",
        "params = {\n",
        "    'objective': 'multiclass',\n",
        "    'force_row_wise': True,\n",
        "    'num_class': 3,\n",
        "}\n",
        "\n",
        "bst = LGBMClassifier(**params)\n",
        "\n",
        "bst.fit(X_train_prep, y_train['choice'])\n",
        "\n",
        "y_pred = bst.predict(X_test_prep)\n",
        "\n",
        "print(\"Accuracy:\", accuracy_score(y_pred, y_test))\n",
        "print(\"F1 Score:\", f1_score(y_pred, y_test, average='weighted'))"
      ]
    },
    {
      "cell_type": "markdown",
      "metadata": {
        "id": "JCIUr-jlWRst"
      },
      "source": [
        "### Predicting"
      ]
    },
    {
      "cell_type": "code",
      "execution_count": 8,
      "metadata": {
        "id": "Ojyv-QJtWRst",
        "outputId": "b074639a-28c0-4ee7-f0e0-9cc7d078fa45"
      },
      "outputs": [
        {
          "name": "stderr",
          "output_type": "stream",
          "text": [
            "/tmp/ipykernel_367504/1900845532.py:3: SettingWithCopyWarning: \n",
            "A value is trying to be set on a copy of a slice from a DataFrame.\n",
            "Try using .loc[row_indexer,col_indexer] = value instead\n",
            "\n",
            "See the caveats in the documentation: https://pandas.pydata.org/pandas-docs/stable/user_guide/indexing.html#returning-a-view-versus-a-copy\n",
            "  y_to_predict['choice'] = bst.predict(X_to_predict_prep)\n"
          ]
        }
      ],
      "source": [
        "X_to_predict, y_to_predict = air_canada_to_predict.drop(['id', 'ticket_id', 'choice'], axis=1), air_canada_to_predict[['id']]\n",
        "X_to_predict_prep = preprocessing.transform(X_to_predict)\n",
        "y_to_predict['choice'] = bst.predict(X_to_predict_prep)"
      ]
    },
    {
      "cell_type": "code",
      "execution_count": 9,
      "metadata": {
        "id": "WhM7eglFWRsu",
        "outputId": "8f215f2b-4e9b-44c5-f07c-a33b997d74a7"
      },
      "outputs": [
        {
          "name": "stderr",
          "output_type": "stream",
          "text": [
            "/tmp/ipykernel_367504/1816271922.py:1: SettingWithCopyWarning: \n",
            "A value is trying to be set on a copy of a slice from a DataFrame.\n",
            "Try using .loc[row_indexer,col_indexer] = value instead\n",
            "\n",
            "See the caveats in the documentation: https://pandas.pydata.org/pandas-docs/stable/user_guide/indexing.html#returning-a-view-versus-a-copy\n",
            "  y_to_predict['choice'] = y_to_predict['choice'].map({ 0: 'nochoice', 1: 'pref', 2: 'advs'})\n"
          ]
        }
      ],
      "source": [
        "y_to_predict['choice'] = y_to_predict['choice'].map({ 0: 'nochoice', 1: 'pref', 2: 'advs'})"
      ]
    },
    {
      "cell_type": "code",
      "execution_count": 10,
      "metadata": {
        "id": "g_IG7qM3WRsu"
      },
      "outputs": [],
      "source": [
        "y_final = pd.concat([y_to_predict, air_canada])[['id', 'choice']]"
      ]
    },
    {
      "cell_type": "markdown",
      "metadata": {
        "id": "2RNo1mG4WRsu"
      },
      "source": [
        "### Saving"
      ]
    },
    {
      "cell_type": "code",
      "execution_count": 12,
      "metadata": {
        "id": "AD7UNbNpWRsv"
      },
      "outputs": [],
      "source": [
        "pd.DataFrame.to_csv(y_final, '../predictions/pred9-lgb.csv', index=False)"
      ]
    },
    {
      "cell_type": "code",
      "execution_count": null,
      "metadata": {
        "id": "SIJTm6S3WRsv"
      },
      "outputs": [],
      "source": []
    }
  ],
  "metadata": {
    "colab": {
      "provenance": []
    },
    "kernelspec": {
      "display_name": ".venv",
      "language": "python",
      "name": "python3"
    },
    "language_info": {
      "codemirror_mode": {
        "name": "ipython",
        "version": 3
      },
      "file_extension": ".py",
      "mimetype": "text/x-python",
      "name": "python",
      "nbconvert_exporter": "python",
      "pygments_lexer": "ipython3",
      "version": "3.12.3"
    }
  },
  "nbformat": 4,
  "nbformat_minor": 0
}
