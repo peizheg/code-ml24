{
  "nbformat": 4,
  "nbformat_minor": 0,
  "metadata": {
    "colab": {
      "provenance": [],
      "gpuType": "T4",
      "authorship_tag": "ABX9TyNiYc2sn/YlIIi9xuyKLawU",
      "include_colab_link": true
    },
    "kernelspec": {
      "name": "python3",
      "display_name": "Python 3"
    },
    "language_info": {
      "name": "python"
    },
    "accelerator": "GPU"
  },
  "cells": [
    {
      "cell_type": "markdown",
      "metadata": {
        "id": "view-in-github",
        "colab_type": "text"
      },
      "source": [
        "<a href=\"https://colab.research.google.com/github/Crazydodo123/code-ml24/blob/main/nn.ipynb\" target=\"_parent\"><img src=\"https://colab.research.google.com/assets/colab-badge.svg\" alt=\"Open In Colab\"/></a>"
      ]
    },
    {
      "cell_type": "code",
      "execution_count": 1,
      "metadata": {
        "id": "S-5-sg3VK2mo"
      },
      "outputs": [],
      "source": [
        "import numpy as np\n",
        "import pandas as pd\n",
        "import matplotlib.pyplot as plt\n",
        "import tensorflow as tf\n",
        "import pandas as pd"
      ]
    },
    {
      "cell_type": "code",
      "source": [
        "import pandas as pd\n",
        "\n",
        "air_canada = pd.read_csv('./new_data.csv')\n",
        "air_canada = air_canada.dropna(subset=['choice'])\n",
        "\n",
        "y = air_canada['choice']\n",
        "X = air_canada.drop(['id', 'Unnamed: 0','flight_departure_datetime', 'purchase_datetime', 'ticket_id', 'choice'], axis=1)"
      ],
      "metadata": {
        "id": "mTX8JMWNRumc"
      },
      "execution_count": 2,
      "outputs": []
    },
    {
      "cell_type": "code",
      "source": [
        "from sklearn.model_selection import train_test_split\n",
        "\n",
        "# Split data into train (80%), validation (10%), and test (10%)\n",
        "X_train, X_temp, y_train, y_temp = train_test_split(X, y, test_size=0.2, random_state=42)\n",
        "X_val, X_test, y_val, y_test = train_test_split(X_temp, y_temp, test_size=0.5, random_state=42)"
      ],
      "metadata": {
        "id": "Qp52IsVAR66M"
      },
      "execution_count": 3,
      "outputs": []
    },
    {
      "cell_type": "code",
      "source": [
        "from sklearn.pipeline import make_pipeline\n",
        "from sklearn.compose import ColumnTransformer\n",
        "from sklearn.preprocessing import OneHotEncoder, StandardScaler\n",
        "\n",
        "num_pipeline = make_pipeline(\n",
        "  StandardScaler()\n",
        ")\n",
        "\n",
        "cat_pipeline = make_pipeline(\n",
        "  OneHotEncoder()\n",
        ")\n",
        "\n",
        "preprocessing = ColumnTransformer([\n",
        "    ('cat', cat_pipeline, ['od']),\n",
        "    ('num', num_pipeline, ['date_difference', 'trip_type', 'branded_fare', 'number_of_pax', 'ADVS_price', 'PREF_price',\n",
        "       'ADVS_capacity', 'PREF_capacity', 'ADVS_inventory', 'PREF_inventory'])\n",
        "  ], remainder='drop')"
      ],
      "metadata": {
        "id": "m_BH5SLIZrIo"
      },
      "execution_count": 6,
      "outputs": []
    },
    {
      "cell_type": "code",
      "source": [
        "X_train_prep = preprocessing.fit_transform(X_train)\n",
        "X_val_prep = preprocessing.fit_transform(X_val)\n",
        "X_test_prep = preprocessing.transform(X_test)"
      ],
      "metadata": {
        "id": "fP-1JpL6Z8Tg"
      },
      "execution_count": 7,
      "outputs": []
    },
    {
      "cell_type": "code",
      "source": [
        "# One-hot encode the y (choice) column\n",
        "from sklearn.preprocessing import OneHotEncoder\n",
        "\n",
        "# One-hot encode the y (choice) column\n",
        "encoder = OneHotEncoder(sparse_output=False)\n",
        "\n",
        "y_train_prep = encoder.fit_transform(pd.DataFrame(y_train))\n",
        "y_val_prep = encoder.fit_transform(pd.DataFrame(y_val))\n",
        "y_test_prep = encoder.fit_transform(pd.DataFrame(y_test))"
      ],
      "metadata": {
        "id": "4DzOBegNRtZ5"
      },
      "execution_count": 13,
      "outputs": []
    },
    {
      "cell_type": "code",
      "source": [
        "# Convert data to TensorFlow tensors\n",
        "X_train_tensor = tf.convert_to_tensor(X_train_prep, dtype=tf.float32)\n",
        "y_train_tensor = tf.convert_to_tensor(y_train_prep, dtype=tf.float32)\n",
        "X_val_tensor = tf.convert_to_tensor(X_val_prep, dtype=tf.float32)\n",
        "y_val_tensor = tf.convert_to_tensor(y_val_prep, dtype=tf.float32)\n",
        "X_test_tensor = tf.convert_to_tensor(X_test_prep, dtype=tf.float32)\n",
        "y_test_tensor = tf.convert_to_tensor(y_test_prep, dtype=tf.float32)"
      ],
      "metadata": {
        "id": "kPuMy187SKzA"
      },
      "execution_count": 16,
      "outputs": []
    },
    {
      "cell_type": "code",
      "source": [
        "X_train_tensor.shape, X_val_tensor.shape, X_test_tensor.shape"
      ],
      "metadata": {
        "colab": {
          "base_uri": "https://localhost:8080/"
        },
        "id": "ryGPmd5QqvOw",
        "outputId": "e06b9589-4284-42a1-e0e7-3ee00db4b424"
      },
      "execution_count": 27,
      "outputs": [
        {
          "output_type": "execute_result",
          "data": {
            "text/plain": [
              "(TensorShape([153998, 20]), TensorShape([19250, 20]), TensorShape([19250, 20]))"
            ]
          },
          "metadata": {},
          "execution_count": 27
        }
      ]
    },
    {
      "cell_type": "code",
      "source": [
        "# Create a basic TensorFlow Sequential model that takes input with 20 features\n",
        "model = tf.keras.Sequential([\n",
        "    tf.keras.layers.InputLayer(input_shape=(20,)),  # Input layer expecting 20 features per row\n",
        "    tf.keras.layers.Dense(64, activation='relu'),\n",
        "    tf.keras.layers.Dense(32, activation='relu'),\n",
        "    tf.keras.layers.Dense(3, activation='softmax')  # Output layer with 4 choices (assuming 4 classes in 'choice')\n",
        "])\n",
        "\n",
        "# Compile the model\n",
        "model.compile(optimizer='adam',\n",
        "              loss='categorical_crossentropy',\n",
        "              metrics=['accuracy'])\n"
      ],
      "metadata": {
        "id": "V026ZvLQQe5V"
      },
      "execution_count": 30,
      "outputs": []
    },
    {
      "cell_type": "code",
      "source": [
        "# Train the model\n",
        "model.fit(X_train_tensor, y_train_tensor, epochs=20, validation_data=(X_val_tensor, y_val_tensor))\n",
        "\n",
        "# Evaluate the model on the test data\n",
        "test_loss, test_accuracy = model.evaluate(X_test_tensor, y_test_tensor)\n",
        "print(f\"Test accuracy: {test_accuracy:.2f}\")"
      ],
      "metadata": {
        "id": "LUjaSwcQQ6iC"
      },
      "execution_count": null,
      "outputs": []
    }
  ]
}